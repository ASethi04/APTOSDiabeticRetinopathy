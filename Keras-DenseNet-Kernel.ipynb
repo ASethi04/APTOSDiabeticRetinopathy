{
 "cells": [
  {
   "cell_type": "code",
   "execution_count": 1,
   "metadata": {
    "_cell_guid": "b1076dfc-b9ad-4769-8c92-a6c4dae69d19",
    "_uuid": "8f2839f25d086af736a60e9eeb907d3b93b6e0e5"
   },
   "outputs": [
    {
     "name": "stderr",
     "output_type": "stream",
     "text": [
      "Using TensorFlow backend.\n"
     ]
    }
   ],
   "source": [
    "import tensorflow as tf\n",
    "import numpy as np\n",
    "import pandas as pd\n",
    "import matplotlib.pyplot as plt\n",
    "from sklearn.model_selection import train_test_split\n",
    "from keras.preprocessing.image import ImageDataGenerator\n",
    "from keras.preprocessing.image import img_to_array\n",
    "from numpy import expand_dims\n",
    "from tqdm import tqdm\n",
    "from PIL import Image\n",
    "from keras.preprocessing.image import ImageDataGenerator\n",
    "\n",
    "from PIL import ImageOps\n",
    "import os\n",
    "from keras.callbacks import Callback, ModelCheckpoint\n",
    "from keras.applications import DenseNet121\n",
    "import json\n",
    "import math\n",
    "import os\n",
    "\n",
    "import cv2\n",
    "from PIL import Image\n",
    "import numpy as np\n",
    "from keras import layers\n",
    "from keras.applications import DenseNet121\n",
    "from keras.callbacks import Callback, ModelCheckpoint\n",
    "from keras.preprocessing.image import ImageDataGenerator\n",
    "from keras.models import Sequential\n",
    "from keras.optimizers import Adam\n",
    "import matplotlib.pyplot as plt\n",
    "import pandas as pd\n",
    "from sklearn.model_selection import train_test_split\n",
    "from sklearn.metrics import cohen_kappa_score, accuracy_score\n",
    "import scipy\n",
    "import tensorflow as tf\n",
    "from tqdm import tqdm\n"
   ]
  },
  {
   "cell_type": "code",
   "execution_count": 2,
   "metadata": {
    "_cell_guid": "79c7e3d0-c299-4dcb-8224-4455121ee9b0",
    "_uuid": "d629ff2d2480ee46fbb7e2d37f6b5fab8052498a"
   },
   "outputs": [],
   "source": [
    "train_df = pd.read_csv('../input/aptos2019-blindness-detection/train.csv')\n",
    "test_df = pd.read_csv('../input/aptos2019-blindness-detection/test.csv')"
   ]
  },
  {
   "cell_type": "code",
   "execution_count": 3,
   "metadata": {},
   "outputs": [],
   "source": [
    "def get_pad_width(im, new_shape, is_rgb=True):\n",
    "    pad_diff = new_shape - im.shape[0], new_shape - im.shape[1]\n",
    "    t, b = math.floor(pad_diff[0]/2), math.ceil(pad_diff[0]/2)\n",
    "    l, r = math.floor(pad_diff[1]/2), math.ceil(pad_diff[1]/2)\n",
    "    if is_rgb:\n",
    "        pad_width = ((t,b), (l,r), (0, 0))\n",
    "    else:\n",
    "        pad_width = ((t,b), (l,r))\n",
    "    return pad_width\n",
    "\n",
    "def preprocess_image(image_path, desired_size=224):\n",
    "    im = Image.open(image_path)\n",
    "    im = im.resize((desired_size, )*2, resample=Image.LANCZOS)\n",
    "    return im\n",
    "\n",
    "def augmentate_image(im, desired_size=224):\n",
    "    imageArray = []\n",
    "    data = img_to_array(im)\n",
    "    samples = expand_dims(data, 0)\n",
    "    \n",
    "    datagen = ImageDataGenerator(brightness_range=[0.8,1.8])\n",
    "    it = datagen.flow(samples, batch_size=1)\n",
    "\n",
    "    for i in range(9):\n",
    "        batch = it.next()\n",
    "        image = np.uint8(batch[0])\n",
    "        rimage = np.flip(image, axis=1)\n",
    "        imageArray.append(image)\n",
    "        imageArray.append(rimage)\n",
    "\n",
    "    return imageArray\n",
    "    "
   ]
  },
  {
   "cell_type": "code",
   "execution_count": 4,
   "metadata": {},
   "outputs": [
    {
     "name": "stderr",
     "output_type": "stream",
     "text": [
      "100%|██████████| 3662/3662 [08:50<00:00,  6.27it/s]\n",
      "100%|██████████| 1928/1928 [01:39<00:00, 15.47it/s]"
     ]
    },
    {
     "name": "stdout",
     "output_type": "stream",
     "text": [
      "(3662, 224, 224, 3)\n",
      "(3662, 5)\n",
      "(1928, 224, 224, 3)\n"
     ]
    },
    {
     "name": "stderr",
     "output_type": "stream",
     "text": [
      "\n"
     ]
    }
   ],
   "source": [
    "N = train_df.shape[0]\n",
    "x = np.empty((N, 224, 224,3), dtype=np.uint8)\n",
    "\n",
    "for i, image_id in enumerate(tqdm(train_df['id_code'])):\n",
    "    x[i, :, :] = preprocess_image(f'../input/aptos2019-blindness-detection/train_images/{image_id}.png')\n",
    "\n",
    "N = test_df.shape[0]\n",
    "sub = np.empty((N, 224, 224,3), dtype=np.uint8)\n",
    "\n",
    "for i, image_id in enumerate(tqdm(test_df['id_code'])):\n",
    "    sub[i, :, :] = preprocess_image(f'../input/aptos2019-blindness-detection/test_images/{image_id}.png')\n",
    "\n",
    "y = pd.get_dummies(train_df['diagnosis']).values\n",
    "\n",
    "print(x.shape)\n",
    "print(y.shape)\n",
    "print(sub.shape)"
   ]
  },
  {
   "cell_type": "code",
   "execution_count": 5,
   "metadata": {},
   "outputs": [
    {
     "name": "stdout",
     "output_type": "stream",
     "text": [
      "Original y_train: [1805  370  999  193  295]\n",
      "Multilabel version: [3662 1857 1487  488  295]\n"
     ]
    }
   ],
   "source": [
    "y_train_multi = np.empty(y.shape, dtype=y.dtype)\n",
    "y_train_multi[:, 4] = y[:, 4]\n",
    "\n",
    "for i in range(3, -1, -1):\n",
    "    y_train_multi[:, i] = np.logical_or(y[:, i], y_train_multi[:, i+1])\n",
    "\n",
    "print(\"Original y_train:\", y.sum(axis=0))\n",
    "print(\"Multilabel version:\", y_train_multi.sum(axis=0))"
   ]
  },
  {
   "cell_type": "code",
   "execution_count": 6,
   "metadata": {},
   "outputs": [
    {
     "name": "stdout",
     "output_type": "stream",
     "text": [
      "[[0 0 1 0 0]\n",
      " [0 0 0 0 1]\n",
      " [0 1 0 0 0]\n",
      " ...\n",
      " [0 0 1 0 0]\n",
      " [1 0 0 0 0]\n",
      " [0 0 1 0 0]]\n"
     ]
    }
   ],
   "source": [
    "print(y)\n",
    "BATCHSIZE = 32\n",
    "x_train, x_test, y_train, y_test = train_test_split(\n",
    "    x, y, \n",
    "    test_size=0.15, \n",
    "    random_state=2019\n",
    ")\n"
   ]
  },
  {
   "cell_type": "code",
   "execution_count": 7,
   "metadata": {},
   "outputs": [],
   "source": [
    "def create_datagen():\n",
    "    return ImageDataGenerator(\n",
    "        zoom_range=0.15,  # set range for random zoom\n",
    "        # set mode for filling points outside the input boundaries\n",
    "        fill_mode='constant',\n",
    "        cval=0.,  # value used for fill_mode = \"constant\"\n",
    "        horizontal_flip=True,  # randomly flip images\n",
    "        vertical_flip=True,  # randomly flip images\n",
    "    )\n",
    "\n",
    "# Using original generator\n",
    "data_generator = create_datagen().flow(x_train, y_train,seed=2019)"
   ]
  },
  {
   "cell_type": "code",
   "execution_count": 8,
   "metadata": {},
   "outputs": [],
   "source": [
    "class Metrics(Callback):\n",
    "    def on_train_begin(self, logs={}):\n",
    "        self.val_kappas = []\n",
    "\n",
    "    def on_epoch_end(self, epoch, logs={}):\n",
    "        X_val, y_val = self.validation_data[:2]\n",
    "        y_val = y_val.sum(axis=1) - 1\n",
    "        \n",
    "        y_pred = self.model.predict(X_val) > 0.5\n",
    "        y_pred = y_pred.astype(int).sum(axis=1) - 1\n",
    "\n",
    "        _val_kappa = cohen_kappa_score(\n",
    "            y_val,\n",
    "            y_pred, \n",
    "            weights='quadratic'\n",
    "        )\n",
    "\n",
    "        self.val_kappas.append(_val_kappa)\n",
    "\n",
    "        print(f\"val_kappa: {_val_kappa:.4f}\")\n",
    "        \n",
    "        if _val_kappa == max(self.val_kappas):\n",
    "            print(\"Validation Kappa has improved. Saving model.\")\n",
    "            self.model.save('model.h5')\n",
    "\n",
    "        return"
   ]
  },
  {
   "cell_type": "code",
   "execution_count": 9,
   "metadata": {},
   "outputs": [],
   "source": [
    "class_weight = {\n",
    "    0:1,\n",
    "    1:4.88,\n",
    "    2:1.81,\n",
    "    3:9.35,\n",
    "    4:6.12\n",
    "}\n",
    "\n",
    "densenet = DenseNet121(\n",
    "    weights='../input/densenet/DenseNet-BC-121-32-no-top.h5',\n",
    "    include_top=False,\n",
    "    input_shape=(224,224,3)\n",
    ")"
   ]
  },
  {
   "cell_type": "code",
   "execution_count": 10,
   "metadata": {},
   "outputs": [],
   "source": [
    "def build_model():\n",
    "    model = Sequential()\n",
    "    model.add(densenet)\n",
    "    model.add(layers.GlobalAveragePooling2D())\n",
    "    model.add(layers.Dropout(0.5))\n",
    "    model.add(layers.Dense(5, activation='softmax'))\n",
    "    \n",
    "    model.compile(\n",
    "        loss='categorical_crossentropy',\n",
    "        optimizer=Adam(lr=0.00005),\n",
    "        metrics=['accuracy']\n",
    "    )\n",
    "    \n",
    "    return model"
   ]
  },
  {
   "cell_type": "code",
   "execution_count": 11,
   "metadata": {},
   "outputs": [
    {
     "name": "stdout",
     "output_type": "stream",
     "text": [
      "_________________________________________________________________\n",
      "Layer (type)                 Output Shape              Param #   \n",
      "=================================================================\n",
      "densenet121 (Model)          (None, 7, 7, 1024)        7037504   \n",
      "_________________________________________________________________\n",
      "global_average_pooling2d_1 ( (None, 1024)              0         \n",
      "_________________________________________________________________\n",
      "dropout_1 (Dropout)          (None, 1024)              0         \n",
      "_________________________________________________________________\n",
      "dense_1 (Dense)              (None, 5)                 5125      \n",
      "=================================================================\n",
      "Total params: 7,042,629\n",
      "Trainable params: 6,958,981\n",
      "Non-trainable params: 83,648\n",
      "_________________________________________________________________\n"
     ]
    }
   ],
   "source": [
    "model = build_model()\n",
    "model.summary()"
   ]
  },
  {
   "cell_type": "code",
   "execution_count": 12,
   "metadata": {},
   "outputs": [
    {
     "name": "stdout",
     "output_type": "stream",
     "text": [
      "Epoch 1/15\n",
      "98/97 [==============================] - 81s 828ms/step - loss: 1.2723 - acc: 0.5733 - val_loss: 0.6339 - val_acc: 0.8109\n",
      "val_kappa: 0.0000\n",
      "Validation Kappa has improved. Saving model.\n",
      "Epoch 2/15\n",
      "98/97 [==============================] - 38s 387ms/step - loss: 0.7698 - acc: 0.7318 - val_loss: 0.5417 - val_acc: 0.8218\n",
      "val_kappa: 0.0000\n",
      "Validation Kappa has improved. Saving model.\n",
      "Epoch 3/15\n",
      "98/97 [==============================] - 38s 385ms/step - loss: 0.6428 - acc: 0.7752 - val_loss: 0.4605 - val_acc: 0.8327\n",
      "val_kappa: 0.0000\n",
      "Validation Kappa has improved. Saving model.\n",
      "Epoch 4/15\n",
      "98/97 [==============================] - 38s 385ms/step - loss: 0.5983 - acc: 0.7848 - val_loss: 0.4450 - val_acc: 0.8345\n",
      "val_kappa: 0.0000\n",
      "Validation Kappa has improved. Saving model.\n",
      "Epoch 5/15\n",
      "98/97 [==============================] - 37s 379ms/step - loss: 0.5331 - acc: 0.8039 - val_loss: 0.4345 - val_acc: 0.8382\n",
      "val_kappa: 0.0000\n",
      "Validation Kappa has improved. Saving model.\n",
      "Epoch 6/15\n",
      "98/97 [==============================] - 37s 374ms/step - loss: 0.4827 - acc: 0.8256 - val_loss: 0.4049 - val_acc: 0.8673\n",
      "val_kappa: 0.0000\n",
      "Validation Kappa has improved. Saving model.\n",
      "Epoch 7/15\n",
      "98/97 [==============================] - 37s 376ms/step - loss: 0.4533 - acc: 0.8313 - val_loss: 0.3792 - val_acc: 0.8655\n",
      "val_kappa: 0.0000\n",
      "Validation Kappa has improved. Saving model.\n",
      "Epoch 8/15\n",
      "98/97 [==============================] - 37s 380ms/step - loss: 0.4260 - acc: 0.8355 - val_loss: 0.4529 - val_acc: 0.8273\n",
      "val_kappa: 0.0000\n",
      "Validation Kappa has improved. Saving model.\n",
      "Epoch 9/15\n",
      "98/97 [==============================] - 37s 379ms/step - loss: 0.4226 - acc: 0.8469 - val_loss: 0.3813 - val_acc: 0.8636\n",
      "val_kappa: 0.0000\n",
      "Validation Kappa has improved. Saving model.\n",
      "Epoch 10/15\n",
      "98/97 [==============================] - 37s 374ms/step - loss: 0.3913 - acc: 0.8546 - val_loss: 0.3702 - val_acc: 0.8673\n",
      "val_kappa: 0.0000\n",
      "Validation Kappa has improved. Saving model.\n",
      "Epoch 11/15\n",
      "98/97 [==============================] - 37s 378ms/step - loss: 0.3556 - acc: 0.8677 - val_loss: 0.4055 - val_acc: 0.8564\n",
      "val_kappa: 0.0000\n",
      "Validation Kappa has improved. Saving model.\n",
      "Epoch 12/15\n",
      "98/97 [==============================] - 38s 390ms/step - loss: 0.3398 - acc: 0.8731 - val_loss: 0.4989 - val_acc: 0.8400\n",
      "val_kappa: 0.0000\n",
      "Validation Kappa has improved. Saving model.\n",
      "Epoch 13/15\n",
      "98/97 [==============================] - 38s 391ms/step - loss: 0.3307 - acc: 0.8763 - val_loss: 0.3995 - val_acc: 0.8582\n",
      "val_kappa: 0.0000\n",
      "Validation Kappa has improved. Saving model.\n",
      "Epoch 14/15\n",
      "98/97 [==============================] - 37s 380ms/step - loss: 0.2979 - acc: 0.8941 - val_loss: 0.4543 - val_acc: 0.8400\n",
      "val_kappa: 0.0000\n",
      "Validation Kappa has improved. Saving model.\n",
      "Epoch 15/15\n",
      "98/97 [==============================] - 37s 380ms/step - loss: 0.2665 - acc: 0.9034 - val_loss: 0.4233 - val_acc: 0.8600\n",
      "val_kappa: 0.0000\n",
      "Validation Kappa has improved. Saving model.\n"
     ]
    }
   ],
   "source": [
    "kappa_metrics = Metrics()\n",
    "\n",
    "history = model.fit_generator(\n",
    "    data_generator,\n",
    "    steps_per_epoch=x_train.shape[0]/BATCHSIZE,\n",
    "    epochs=15,\n",
    "    validation_data=(x_test, y_test),\n",
    "    callbacks=[kappa_metrics]\n",
    ")"
   ]
  },
  {
   "cell_type": "code",
   "execution_count": 13,
   "metadata": {},
   "outputs": [
    {
     "name": "stdout",
     "output_type": "stream",
     "text": [
      "\n",
      " Test accuracy: 0.86\n"
     ]
    }
   ],
   "source": [
    "score = model.evaluate(x_test,y_test, verbose = 0)\n",
    "print('\\n', 'Test accuracy:', score[1])"
   ]
  },
  {
   "cell_type": "code",
   "execution_count": 14,
   "metadata": {},
   "outputs": [
    {
     "data": {
      "text/plain": [
       "<matplotlib.axes._subplots.AxesSubplot at 0x7fd925a53710>"
      ]
     },
     "execution_count": 14,
     "metadata": {},
     "output_type": "execute_result"
    },
    {
     "data": {
      "image/png": "[encoded data removed]",
      "text/plain": [
       "<Figure size 432x288 with 1 Axes>"
      ]
     },
     "metadata": {
      "needs_background": "light"
     },
     "output_type": "display_data"
    },
    {
     "data": {
      "image/png": "[encoded data removed]",
      "text/plain": [
       "<Figure size 432x288 with 1 Axes>"
      ]
     },
     "metadata": {
      "needs_background": "light"
     },
     "output_type": "display_data"
    }
   ],
   "source": [
    "with open('history.json', 'w') as f:\n",
    "    json.dump(history.history, f)\n",
    "\n",
    "history_df = pd.DataFrame(history.history)\n",
    "history_df[['loss', 'val_loss']].plot()\n",
    "history_df[['acc', 'val_acc']].plot()"
   ]
  },
  {
   "cell_type": "code",
   "execution_count": 15,
   "metadata": {},
   "outputs": [
    {
     "data": {
      "text/plain": [
       "[<matplotlib.lines.Line2D at 0x7fd92d69b0b8>]"
      ]
     },
     "execution_count": 15,
     "metadata": {},
     "output_type": "execute_result"
    },
    {
     "data": {
      "image/png": "[encoded data removed]",
      "text/plain": [
       "<Figure size 432x288 with 1 Axes>"
      ]
     },
     "metadata": {
      "needs_background": "light"
     },
     "output_type": "display_data"
    }
   ],
   "source": [
    "plt.plot(kappa_metrics.val_kappas)"
   ]
  },
  {
   "cell_type": "code",
   "execution_count": 16,
   "metadata": {},
   "outputs": [
    {
     "name": "stdout",
     "output_type": "stream",
     "text": [
      "[[2.20005661e-02 6.50344968e-01 3.05294275e-01 6.56589307e-03\n",
      "  1.57942753e-02]\n",
      " [2.49606401e-05 1.52731279e-03 2.31134921e-01 6.25942111e-01\n",
      "  1.41370669e-01]\n",
      " [7.36213187e-05 9.15239304e-02 4.80502129e-01 4.17464316e-01\n",
      "  1.04359686e-02]\n",
      " ...\n",
      " [1.78307948e-06 9.96591756e-04 7.43954957e-01 2.51367033e-01\n",
      "  3.67959472e-03]\n",
      " [1.19630736e-03 1.20623931e-02 5.30161262e-01 1.56104222e-01\n",
      "  3.00475776e-01]\n",
      " [9.77478504e-01 2.07343255e-04 8.14442988e-03 7.94524385e-05\n",
      "  1.40903825e-02]]\n",
      "[1 3 2 ... 2 2 0]\n",
      "        id_code  diagnosis\n",
      "0  0005cfc8afb6          1\n",
      "1  003f0afdcd15          3\n",
      "2  006efc72b638          2\n",
      "3  00836aaacf06          2\n",
      "4  009245722fa4          2\n"
     ]
    }
   ],
   "source": [
    "predictions = model.predict(sub) \n",
    "print(predictions)\n",
    "final = np.argmax(predictions, axis = 1)\n",
    "print(final)\n",
    "submission = pd.DataFrame(data={'id_code': test_df['id_code'], 'diagnosis': final})\n",
    "print(submission.head())\n",
    "submission.to_csv('submission.csv', index=False)"
   ]
  }
 ],
 "metadata": {
  "kernelspec": {
   "display_name": "Python 3",
   "language": "python",
   "name": "python3"
  },
  "language_info": {
   "codemirror_mode": {
    "name": "ipython",
    "version": 3
   },
   "file_extension": ".py",
   "mimetype": "text/x-python",
   "name": "python",
   "nbconvert_exporter": "python",
   "pygments_lexer": "ipython3",
   "version": "3.6.6"
  }
 },
 "nbformat": 4,
 "nbformat_minor": 1
}
